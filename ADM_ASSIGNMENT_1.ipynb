{
 "cells": [
  {
   "cell_type": "markdown",
   "id": "ef12d1c6",
   "metadata": {},
   "source": [
    "# TAXI TIP PREDICTION"
   ]
  },
  {
   "cell_type": "markdown",
   "id": "5892fae7",
   "metadata": {},
   "source": [
    "# Importing Necessary Libraries\n"
   ]
  },
  {
   "cell_type": "markdown",
   "id": "96be3286",
   "metadata": {},
   "source": [
    "import pandas as pd\n",
    "import numpy as np\n",
    "from pandas.tseries.holiday import USFederalHolidayCalendar as calander\n",
    "import warnings\n",
    "warnings.filterwarnings(\"ignore\")\n",
    "import matplotlib.pyplot as plt\n",
    "import seaborn as sns\n",
    "\n",
    "import matplotlib.pyplot as plt\n",
    "import matplotlib.colors as colors\n",
    "\n",
    "plt.style.use('ggplot')\n",
    "from sklearn.ensemble import GradientBoostingRegressor\n",
    "from sklearn.metrics import mean_squared_erro\n",
    "from sklearn.model_selection import train_test_split\n",
    "from statsmodels.formula.api import *\n",
    "from sklearn.metrics import mean_squared_error\n",
    "from sklearn.metrics import r2_score\n",
    "from sklearn.preprocessing import StandardScaler\n",
    "from sklearn import linear_model\n",
    "from scipy import stats"
   ]
  },
  {
   "cell_type": "markdown",
   "id": "eb7f3291",
   "metadata": {},
   "source": [
    "# Reading Data"
   ]
  },
  {
   "cell_type": "code",
   "execution_count": 81,
   "id": "9e709a40",
   "metadata": {},
   "outputs": [],
   "source": [
    "data = pd.read_csv(r'C:\\Users\\Ash\\Desktop\\Sample\\yellow_tripdata_2021-01.csv')"
   ]
  },
  {
   "cell_type": "markdown",
   "id": "2a3b51c9",
   "metadata": {},
   "source": [
    "# Exploratory Data Analysis"
   ]
  },
  {
   "cell_type": "code",
   "execution_count": 92,
   "id": "c11e2383",
   "metadata": {},
   "outputs": [
    {
     "data": {
      "text/plain": [
       "(1369765, 18)"
      ]
     },
     "execution_count": 92,
     "metadata": {},
     "output_type": "execute_result"
    }
   ],
   "source": [
    "data.shape"
   ]
  },
  {
   "cell_type": "code",
   "execution_count": 93,
   "id": "6aa3f27c",
   "metadata": {},
   "outputs": [
    {
     "data": {
      "text/plain": [
       "Index(['VendorID', 'tpep_pickup_datetime', 'tpep_dropoff_datetime',\n",
       "       'passenger_count', 'trip_distance', 'RatecodeID', 'store_and_fwd_flag',\n",
       "       'PULocationID', 'DOLocationID', 'payment_type', 'fare_amount', 'extra',\n",
       "       'mta_tax', 'tip_amount', 'tolls_amount', 'improvement_surcharge',\n",
       "       'total_amount', 'congestion_surcharge'],\n",
       "      dtype='object')"
      ]
     },
     "execution_count": 93,
     "metadata": {},
     "output_type": "execute_result"
    }
   ],
   "source": [
    "data.columns"
   ]
  },
  {
   "cell_type": "code",
   "execution_count": 95,
   "id": "757de5da",
   "metadata": {},
   "outputs": [
    {
     "data": {
      "text/plain": [
       "VendorID                 float64\n",
       "tpep_pickup_datetime      object\n",
       "tpep_dropoff_datetime     object\n",
       "passenger_count          float64\n",
       "trip_distance            float64\n",
       "RatecodeID               float64\n",
       "store_and_fwd_flag        object\n",
       "PULocationID               int64\n",
       "DOLocationID               int64\n",
       "payment_type             float64\n",
       "fare_amount              float64\n",
       "extra                    float64\n",
       "mta_tax                  float64\n",
       "tip_amount               float64\n",
       "tolls_amount             float64\n",
       "improvement_surcharge    float64\n",
       "total_amount             float64\n",
       "congestion_surcharge     float64\n",
       "dtype: object"
      ]
     },
     "execution_count": 95,
     "metadata": {},
     "output_type": "execute_result"
    }
   ],
   "source": [
    "data.dtypes"
   ]
  },
  {
   "cell_type": "code",
   "execution_count": 96,
   "id": "6641df83",
   "metadata": {},
   "outputs": [
    {
     "data": {
      "text/html": [
       "<div>\n",
       "<style scoped>\n",
       "    .dataframe tbody tr th:only-of-type {\n",
       "        vertical-align: middle;\n",
       "    }\n",
       "\n",
       "    .dataframe tbody tr th {\n",
       "        vertical-align: top;\n",
       "    }\n",
       "\n",
       "    .dataframe thead th {\n",
       "        text-align: right;\n",
       "    }\n",
       "</style>\n",
       "<table border=\"1\" class=\"dataframe\">\n",
       "  <thead>\n",
       "    <tr style=\"text-align: right;\">\n",
       "      <th></th>\n",
       "      <th>VendorID</th>\n",
       "      <th>tpep_pickup_datetime</th>\n",
       "      <th>tpep_dropoff_datetime</th>\n",
       "      <th>passenger_count</th>\n",
       "      <th>trip_distance</th>\n",
       "      <th>RatecodeID</th>\n",
       "      <th>store_and_fwd_flag</th>\n",
       "      <th>PULocationID</th>\n",
       "      <th>DOLocationID</th>\n",
       "      <th>payment_type</th>\n",
       "      <th>fare_amount</th>\n",
       "      <th>extra</th>\n",
       "      <th>mta_tax</th>\n",
       "      <th>tip_amount</th>\n",
       "      <th>tolls_amount</th>\n",
       "      <th>improvement_surcharge</th>\n",
       "      <th>total_amount</th>\n",
       "      <th>congestion_surcharge</th>\n",
       "    </tr>\n",
       "  </thead>\n",
       "  <tbody>\n",
       "    <tr>\n",
       "      <th>0</th>\n",
       "      <td>1.0</td>\n",
       "      <td>2021-01-01 00:30:10</td>\n",
       "      <td>2021-01-01 00:36:12</td>\n",
       "      <td>1.0</td>\n",
       "      <td>2.10</td>\n",
       "      <td>1.0</td>\n",
       "      <td>N</td>\n",
       "      <td>142</td>\n",
       "      <td>43</td>\n",
       "      <td>2.0</td>\n",
       "      <td>8.0</td>\n",
       "      <td>3.0</td>\n",
       "      <td>0.5</td>\n",
       "      <td>0.00</td>\n",
       "      <td>0.0</td>\n",
       "      <td>0.3</td>\n",
       "      <td>11.80</td>\n",
       "      <td>2.5</td>\n",
       "    </tr>\n",
       "    <tr>\n",
       "      <th>1</th>\n",
       "      <td>1.0</td>\n",
       "      <td>2021-01-01 00:51:20</td>\n",
       "      <td>2021-01-01 00:52:19</td>\n",
       "      <td>1.0</td>\n",
       "      <td>0.20</td>\n",
       "      <td>1.0</td>\n",
       "      <td>N</td>\n",
       "      <td>238</td>\n",
       "      <td>151</td>\n",
       "      <td>2.0</td>\n",
       "      <td>3.0</td>\n",
       "      <td>0.5</td>\n",
       "      <td>0.5</td>\n",
       "      <td>0.00</td>\n",
       "      <td>0.0</td>\n",
       "      <td>0.3</td>\n",
       "      <td>4.30</td>\n",
       "      <td>0.0</td>\n",
       "    </tr>\n",
       "    <tr>\n",
       "      <th>2</th>\n",
       "      <td>1.0</td>\n",
       "      <td>2021-01-01 00:43:30</td>\n",
       "      <td>2021-01-01 01:11:06</td>\n",
       "      <td>1.0</td>\n",
       "      <td>14.70</td>\n",
       "      <td>1.0</td>\n",
       "      <td>N</td>\n",
       "      <td>132</td>\n",
       "      <td>165</td>\n",
       "      <td>1.0</td>\n",
       "      <td>42.0</td>\n",
       "      <td>0.5</td>\n",
       "      <td>0.5</td>\n",
       "      <td>8.65</td>\n",
       "      <td>0.0</td>\n",
       "      <td>0.3</td>\n",
       "      <td>51.95</td>\n",
       "      <td>0.0</td>\n",
       "    </tr>\n",
       "    <tr>\n",
       "      <th>3</th>\n",
       "      <td>1.0</td>\n",
       "      <td>2021-01-01 00:15:48</td>\n",
       "      <td>2021-01-01 00:31:01</td>\n",
       "      <td>0.0</td>\n",
       "      <td>10.60</td>\n",
       "      <td>1.0</td>\n",
       "      <td>N</td>\n",
       "      <td>138</td>\n",
       "      <td>132</td>\n",
       "      <td>1.0</td>\n",
       "      <td>29.0</td>\n",
       "      <td>0.5</td>\n",
       "      <td>0.5</td>\n",
       "      <td>6.05</td>\n",
       "      <td>0.0</td>\n",
       "      <td>0.3</td>\n",
       "      <td>36.35</td>\n",
       "      <td>0.0</td>\n",
       "    </tr>\n",
       "    <tr>\n",
       "      <th>4</th>\n",
       "      <td>2.0</td>\n",
       "      <td>2021-01-01 00:31:49</td>\n",
       "      <td>2021-01-01 00:48:21</td>\n",
       "      <td>1.0</td>\n",
       "      <td>4.94</td>\n",
       "      <td>1.0</td>\n",
       "      <td>N</td>\n",
       "      <td>68</td>\n",
       "      <td>33</td>\n",
       "      <td>1.0</td>\n",
       "      <td>16.5</td>\n",
       "      <td>0.5</td>\n",
       "      <td>0.5</td>\n",
       "      <td>4.06</td>\n",
       "      <td>0.0</td>\n",
       "      <td>0.3</td>\n",
       "      <td>24.36</td>\n",
       "      <td>2.5</td>\n",
       "    </tr>\n",
       "  </tbody>\n",
       "</table>\n",
       "</div>"
      ],
      "text/plain": [
       "   VendorID tpep_pickup_datetime tpep_dropoff_datetime  passenger_count  \\\n",
       "0       1.0  2021-01-01 00:30:10   2021-01-01 00:36:12              1.0   \n",
       "1       1.0  2021-01-01 00:51:20   2021-01-01 00:52:19              1.0   \n",
       "2       1.0  2021-01-01 00:43:30   2021-01-01 01:11:06              1.0   \n",
       "3       1.0  2021-01-01 00:15:48   2021-01-01 00:31:01              0.0   \n",
       "4       2.0  2021-01-01 00:31:49   2021-01-01 00:48:21              1.0   \n",
       "\n",
       "   trip_distance  RatecodeID store_and_fwd_flag  PULocationID  DOLocationID  \\\n",
       "0           2.10         1.0                  N           142            43   \n",
       "1           0.20         1.0                  N           238           151   \n",
       "2          14.70         1.0                  N           132           165   \n",
       "3          10.60         1.0                  N           138           132   \n",
       "4           4.94         1.0                  N            68            33   \n",
       "\n",
       "   payment_type  fare_amount  extra  mta_tax  tip_amount  tolls_amount  \\\n",
       "0           2.0          8.0    3.0      0.5        0.00           0.0   \n",
       "1           2.0          3.0    0.5      0.5        0.00           0.0   \n",
       "2           1.0         42.0    0.5      0.5        8.65           0.0   \n",
       "3           1.0         29.0    0.5      0.5        6.05           0.0   \n",
       "4           1.0         16.5    0.5      0.5        4.06           0.0   \n",
       "\n",
       "   improvement_surcharge  total_amount  congestion_surcharge  \n",
       "0                    0.3         11.80                   2.5  \n",
       "1                    0.3          4.30                   0.0  \n",
       "2                    0.3         51.95                   0.0  \n",
       "3                    0.3         36.35                   0.0  \n",
       "4                    0.3         24.36                   2.5  "
      ]
     },
     "execution_count": 96,
     "metadata": {},
     "output_type": "execute_result"
    }
   ],
   "source": [
    "data.head()"
   ]
  },
  {
   "cell_type": "code",
   "execution_count": 97,
   "id": "1c9e8cee",
   "metadata": {},
   "outputs": [
    {
     "data": {
      "text/plain": [
       "VendorID                 98352\n",
       "tpep_pickup_datetime         0\n",
       "tpep_dropoff_datetime        0\n",
       "passenger_count          98352\n",
       "trip_distance                0\n",
       "RatecodeID               98352\n",
       "store_and_fwd_flag       98352\n",
       "PULocationID                 0\n",
       "DOLocationID                 0\n",
       "payment_type             98352\n",
       "fare_amount                  0\n",
       "extra                        0\n",
       "mta_tax                      0\n",
       "tip_amount                   0\n",
       "tolls_amount                 0\n",
       "improvement_surcharge        0\n",
       "total_amount                 0\n",
       "congestion_surcharge         0\n",
       "dtype: int64"
      ]
     },
     "execution_count": 97,
     "metadata": {},
     "output_type": "execute_result"
    }
   ],
   "source": [
    "data.isnull().sum()"
   ]
  },
  {
   "cell_type": "code",
   "execution_count": 98,
   "id": "ee173fe1",
   "metadata": {},
   "outputs": [
    {
     "data": {
      "text/plain": [
       "VendorID                      2\n",
       "tpep_pickup_datetime     939018\n",
       "tpep_dropoff_datetime    935990\n",
       "passenger_count               9\n",
       "trip_distance              3787\n",
       "RatecodeID                    7\n",
       "store_and_fwd_flag            2\n",
       "PULocationID                258\n",
       "DOLocationID                260\n",
       "payment_type                  4\n",
       "fare_amount                6017\n",
       "extra                        91\n",
       "mta_tax                       3\n",
       "tip_amount                 2155\n",
       "tolls_amount                307\n",
       "improvement_surcharge         3\n",
       "total_amount               8321\n",
       "congestion_surcharge          5\n",
       "dtype: int64"
      ]
     },
     "execution_count": 98,
     "metadata": {},
     "output_type": "execute_result"
    }
   ],
   "source": [
    "data.nunique()"
   ]
  },
  {
   "cell_type": "code",
   "execution_count": 99,
   "id": "cdca3d0e",
   "metadata": {},
   "outputs": [
    {
     "data": {
      "text/html": [
       "<div>\n",
       "<style scoped>\n",
       "    .dataframe tbody tr th:only-of-type {\n",
       "        vertical-align: middle;\n",
       "    }\n",
       "\n",
       "    .dataframe tbody tr th {\n",
       "        vertical-align: top;\n",
       "    }\n",
       "\n",
       "    .dataframe thead th {\n",
       "        text-align: right;\n",
       "    }\n",
       "</style>\n",
       "<table border=\"1\" class=\"dataframe\">\n",
       "  <thead>\n",
       "    <tr style=\"text-align: right;\">\n",
       "      <th></th>\n",
       "      <th>VendorID</th>\n",
       "      <th>passenger_count</th>\n",
       "      <th>trip_distance</th>\n",
       "      <th>RatecodeID</th>\n",
       "      <th>PULocationID</th>\n",
       "      <th>DOLocationID</th>\n",
       "      <th>payment_type</th>\n",
       "      <th>fare_amount</th>\n",
       "      <th>extra</th>\n",
       "      <th>mta_tax</th>\n",
       "      <th>tip_amount</th>\n",
       "      <th>tolls_amount</th>\n",
       "      <th>improvement_surcharge</th>\n",
       "      <th>total_amount</th>\n",
       "      <th>congestion_surcharge</th>\n",
       "    </tr>\n",
       "  </thead>\n",
       "  <tbody>\n",
       "    <tr>\n",
       "      <th>count</th>\n",
       "      <td>1.271413e+06</td>\n",
       "      <td>1.271413e+06</td>\n",
       "      <td>1.369765e+06</td>\n",
       "      <td>1.271413e+06</td>\n",
       "      <td>1.369765e+06</td>\n",
       "      <td>1.369765e+06</td>\n",
       "      <td>1.271413e+06</td>\n",
       "      <td>1.369765e+06</td>\n",
       "      <td>1.369765e+06</td>\n",
       "      <td>1.369765e+06</td>\n",
       "      <td>1.369765e+06</td>\n",
       "      <td>1.369765e+06</td>\n",
       "      <td>1.369765e+06</td>\n",
       "      <td>1.369765e+06</td>\n",
       "      <td>1.369765e+06</td>\n",
       "    </tr>\n",
       "    <tr>\n",
       "      <th>mean</th>\n",
       "      <td>1.676925e+00</td>\n",
       "      <td>1.411508e+00</td>\n",
       "      <td>4.631982e+00</td>\n",
       "      <td>1.035081e+00</td>\n",
       "      <td>1.652472e+02</td>\n",
       "      <td>1.614956e+02</td>\n",
       "      <td>1.280521e+00</td>\n",
       "      <td>1.209662e+01</td>\n",
       "      <td>9.705085e-01</td>\n",
       "      <td>4.930411e-01</td>\n",
       "      <td>1.918099e+00</td>\n",
       "      <td>2.477432e-01</td>\n",
       "      <td>2.969412e-01</td>\n",
       "      <td>1.747439e+01</td>\n",
       "      <td>2.116098e+00</td>\n",
       "    </tr>\n",
       "    <tr>\n",
       "      <th>std</th>\n",
       "      <td>4.676513e-01</td>\n",
       "      <td>1.059833e+00</td>\n",
       "      <td>3.939042e+02</td>\n",
       "      <td>5.994840e-01</td>\n",
       "      <td>6.783849e+01</td>\n",
       "      <td>7.210800e+01</td>\n",
       "      <td>4.916921e-01</td>\n",
       "      <td>1.291338e+01</td>\n",
       "      <td>1.231256e+00</td>\n",
       "      <td>7.632070e-02</td>\n",
       "      <td>2.597153e+00</td>\n",
       "      <td>1.672755e+00</td>\n",
       "      <td>4.222174e-02</td>\n",
       "      <td>1.469343e+01</td>\n",
       "      <td>9.287277e-01</td>\n",
       "    </tr>\n",
       "    <tr>\n",
       "      <th>min</th>\n",
       "      <td>1.000000e+00</td>\n",
       "      <td>0.000000e+00</td>\n",
       "      <td>0.000000e+00</td>\n",
       "      <td>1.000000e+00</td>\n",
       "      <td>1.000000e+00</td>\n",
       "      <td>1.000000e+00</td>\n",
       "      <td>1.000000e+00</td>\n",
       "      <td>-4.900000e+02</td>\n",
       "      <td>-5.500000e+00</td>\n",
       "      <td>-5.000000e-01</td>\n",
       "      <td>-1.000000e+02</td>\n",
       "      <td>-3.112000e+01</td>\n",
       "      <td>-3.000000e-01</td>\n",
       "      <td>-4.928000e+02</td>\n",
       "      <td>-2.500000e+00</td>\n",
       "    </tr>\n",
       "    <tr>\n",
       "      <th>25%</th>\n",
       "      <td>1.000000e+00</td>\n",
       "      <td>1.000000e+00</td>\n",
       "      <td>1.000000e+00</td>\n",
       "      <td>1.000000e+00</td>\n",
       "      <td>1.240000e+02</td>\n",
       "      <td>1.070000e+02</td>\n",
       "      <td>1.000000e+00</td>\n",
       "      <td>6.000000e+00</td>\n",
       "      <td>0.000000e+00</td>\n",
       "      <td>5.000000e-01</td>\n",
       "      <td>0.000000e+00</td>\n",
       "      <td>0.000000e+00</td>\n",
       "      <td>3.000000e-01</td>\n",
       "      <td>1.080000e+01</td>\n",
       "      <td>2.500000e+00</td>\n",
       "    </tr>\n",
       "    <tr>\n",
       "      <th>50%</th>\n",
       "      <td>2.000000e+00</td>\n",
       "      <td>1.000000e+00</td>\n",
       "      <td>1.700000e+00</td>\n",
       "      <td>1.000000e+00</td>\n",
       "      <td>1.620000e+02</td>\n",
       "      <td>1.620000e+02</td>\n",
       "      <td>1.000000e+00</td>\n",
       "      <td>8.500000e+00</td>\n",
       "      <td>0.000000e+00</td>\n",
       "      <td>5.000000e-01</td>\n",
       "      <td>1.860000e+00</td>\n",
       "      <td>0.000000e+00</td>\n",
       "      <td>3.000000e-01</td>\n",
       "      <td>1.380000e+01</td>\n",
       "      <td>2.500000e+00</td>\n",
       "    </tr>\n",
       "    <tr>\n",
       "      <th>75%</th>\n",
       "      <td>2.000000e+00</td>\n",
       "      <td>1.000000e+00</td>\n",
       "      <td>3.020000e+00</td>\n",
       "      <td>1.000000e+00</td>\n",
       "      <td>2.360000e+02</td>\n",
       "      <td>2.360000e+02</td>\n",
       "      <td>2.000000e+00</td>\n",
       "      <td>1.350000e+01</td>\n",
       "      <td>2.500000e+00</td>\n",
       "      <td>5.000000e-01</td>\n",
       "      <td>2.750000e+00</td>\n",
       "      <td>0.000000e+00</td>\n",
       "      <td>3.000000e-01</td>\n",
       "      <td>1.912000e+01</td>\n",
       "      <td>2.500000e+00</td>\n",
       "    </tr>\n",
       "    <tr>\n",
       "      <th>max</th>\n",
       "      <td>2.000000e+00</td>\n",
       "      <td>8.000000e+00</td>\n",
       "      <td>2.631633e+05</td>\n",
       "      <td>9.900000e+01</td>\n",
       "      <td>2.650000e+02</td>\n",
       "      <td>2.650000e+02</td>\n",
       "      <td>4.000000e+00</td>\n",
       "      <td>6.960500e+03</td>\n",
       "      <td>8.250000e+00</td>\n",
       "      <td>5.000000e-01</td>\n",
       "      <td>1.140440e+03</td>\n",
       "      <td>8.117500e+02</td>\n",
       "      <td>3.000000e-01</td>\n",
       "      <td>7.661280e+03</td>\n",
       "      <td>3.000000e+00</td>\n",
       "    </tr>\n",
       "  </tbody>\n",
       "</table>\n",
       "</div>"
      ],
      "text/plain": [
       "           VendorID  passenger_count  trip_distance    RatecodeID  \\\n",
       "count  1.271413e+06     1.271413e+06   1.369765e+06  1.271413e+06   \n",
       "mean   1.676925e+00     1.411508e+00   4.631982e+00  1.035081e+00   \n",
       "std    4.676513e-01     1.059833e+00   3.939042e+02  5.994840e-01   \n",
       "min    1.000000e+00     0.000000e+00   0.000000e+00  1.000000e+00   \n",
       "25%    1.000000e+00     1.000000e+00   1.000000e+00  1.000000e+00   \n",
       "50%    2.000000e+00     1.000000e+00   1.700000e+00  1.000000e+00   \n",
       "75%    2.000000e+00     1.000000e+00   3.020000e+00  1.000000e+00   \n",
       "max    2.000000e+00     8.000000e+00   2.631633e+05  9.900000e+01   \n",
       "\n",
       "       PULocationID  DOLocationID  payment_type   fare_amount         extra  \\\n",
       "count  1.369765e+06  1.369765e+06  1.271413e+06  1.369765e+06  1.369765e+06   \n",
       "mean   1.652472e+02  1.614956e+02  1.280521e+00  1.209662e+01  9.705085e-01   \n",
       "std    6.783849e+01  7.210800e+01  4.916921e-01  1.291338e+01  1.231256e+00   \n",
       "min    1.000000e+00  1.000000e+00  1.000000e+00 -4.900000e+02 -5.500000e+00   \n",
       "25%    1.240000e+02  1.070000e+02  1.000000e+00  6.000000e+00  0.000000e+00   \n",
       "50%    1.620000e+02  1.620000e+02  1.000000e+00  8.500000e+00  0.000000e+00   \n",
       "75%    2.360000e+02  2.360000e+02  2.000000e+00  1.350000e+01  2.500000e+00   \n",
       "max    2.650000e+02  2.650000e+02  4.000000e+00  6.960500e+03  8.250000e+00   \n",
       "\n",
       "            mta_tax    tip_amount  tolls_amount  improvement_surcharge  \\\n",
       "count  1.369765e+06  1.369765e+06  1.369765e+06           1.369765e+06   \n",
       "mean   4.930411e-01  1.918099e+00  2.477432e-01           2.969412e-01   \n",
       "std    7.632070e-02  2.597153e+00  1.672755e+00           4.222174e-02   \n",
       "min   -5.000000e-01 -1.000000e+02 -3.112000e+01          -3.000000e-01   \n",
       "25%    5.000000e-01  0.000000e+00  0.000000e+00           3.000000e-01   \n",
       "50%    5.000000e-01  1.860000e+00  0.000000e+00           3.000000e-01   \n",
       "75%    5.000000e-01  2.750000e+00  0.000000e+00           3.000000e-01   \n",
       "max    5.000000e-01  1.140440e+03  8.117500e+02           3.000000e-01   \n",
       "\n",
       "       total_amount  congestion_surcharge  \n",
       "count  1.369765e+06          1.369765e+06  \n",
       "mean   1.747439e+01          2.116098e+00  \n",
       "std    1.469343e+01          9.287277e-01  \n",
       "min   -4.928000e+02         -2.500000e+00  \n",
       "25%    1.080000e+01          2.500000e+00  \n",
       "50%    1.380000e+01          2.500000e+00  \n",
       "75%    1.912000e+01          2.500000e+00  \n",
       "max    7.661280e+03          3.000000e+00  "
      ]
     },
     "execution_count": 99,
     "metadata": {},
     "output_type": "execute_result"
    }
   ],
   "source": [
    "data.describe()"
   ]
  },
  {
   "cell_type": "markdown",
   "id": "a6affc14",
   "metadata": {},
   "source": [
    "# Plot of Corelation Matrix"
   ]
  },
  {
   "cell_type": "code",
   "execution_count": 83,
   "id": "615a7314",
   "metadata": {},
   "outputs": [
    {
     "data": {
      "image/png": "[encoded data removed]",
      "text/plain": [
       "<Figure size 1152x360 with 2 Axes>"
      ]
     },
     "metadata": {},
     "output_type": "display_data"
    }
   ],
   "source": [
    "col = ['trip_distance', 'fare_amount', 'tip_amount', 'total_amount', 'tolls_amount']\n",
    "label = ['Distance', 'Fare', 'Tip', 'Total$','Tolls']\n",
    "\n",
    "# plot correlation plot\n",
    "fig, ax = plt.subplots(figsize=(16, 5))\n",
    "corr_matrix = data[col].corr()\n",
    "sns.heatmap(corr_matrix, annot=True, ax=ax, cbar_kws={'label': 'Correlation Coefficient'})\n",
    "ax.set_xticklabels(label)\n",
    "ax.set_yticklabels(label)\n",
    "ax.set_title(\"Correlation Between Continuous Attributes\")\n",
    "plt.show()"
   ]
  },
  {
   "cell_type": "code",
   "execution_count": 84,
   "id": "b0a3defd",
   "metadata": {},
   "outputs": [],
   "source": [
    "sample = data[data['payment_type'] == 1].sample(frac=0.05, replace=True, random_state=30034).reset_index(drop=True)"
   ]
  },
  {
   "cell_type": "code",
   "execution_count": 85,
   "id": "d95541b4",
   "metadata": {},
   "outputs": [],
   "source": [
    "COL = ['passenger_count', 'fare_amount', 'tip_amount', 'tolls_amount']\n",
    "sample_filtered = sample.loc[:, COL].reset_index(drop=True)"
   ]
  },
  {
   "cell_type": "markdown",
   "id": "5fb9dff4",
   "metadata": {},
   "source": [
    "# Split data to train and test"
   ]
  },
  {
   "cell_type": "code",
   "execution_count": 86,
   "id": "82834a73",
   "metadata": {},
   "outputs": [],
   "source": [
    "y = sample_filtered['tip_amount']\n",
    "X_train, X_test, y_train, y_test = train_test_split(sample_filtered, y, test_size=0.3, random_state=0)"
   ]
  },
  {
   "cell_type": "markdown",
   "id": "f0fe0265",
   "metadata": {},
   "source": [
    "# Scaling for Data Normalization"
   ]
  },
  {
   "cell_type": "code",
   "execution_count": 87,
   "id": "b3a94c67",
   "metadata": {},
   "outputs": [],
   "source": [
    "xCOLS = ['fare_amount', 'tolls_amount']\n",
    "\n",
    "scaler = StandardScaler()\n",
    "X_train[xCOLS] = scaler.fit_transform(X_train[xCOLS])\n",
    "X_test[xCOLS] = scaler.transform(X_test[xCOLS])"
   ]
  },
  {
   "cell_type": "markdown",
   "id": "c5ca7855",
   "metadata": {},
   "source": [
    "# Baseline model"
   ]
  },
  {
   "cell_type": "code",
   "execution_count": 88,
   "id": "157abf36",
   "metadata": {},
   "outputs": [
    {
     "name": "stdout",
     "output_type": "stream",
     "text": [
      "                            OLS Regression Results                            \n",
      "==============================================================================\n",
      "Dep. Variable:             tip_amount   R-squared:                       0.000\n",
      "Model:                            OLS   Adj. R-squared:                  0.000\n",
      "Method:                 Least Squares   F-statistic:                       nan\n",
      "Date:                Fri, 04 Feb 2022   Prob (F-statistic):                nan\n",
      "Time:                        21:58:27   Log-Likelihood:                -71256.\n",
      "No. Observations:               32706   AIC:                         1.425e+05\n",
      "Df Residuals:                   32705   BIC:                         1.425e+05\n",
      "Df Model:                           0                                         \n",
      "Covariance Type:            nonrobust                                         \n",
      "==============================================================================\n",
      "                 coef    std err          t      P>|t|      [0.025      0.975]\n",
      "------------------------------------------------------------------------------\n",
      "Intercept      2.6292      0.012    222.426      0.000       2.606       2.652\n",
      "==============================================================================\n",
      "Omnibus:                    37734.442   Durbin-Watson:                   2.003\n",
      "Prob(Omnibus):                  0.000   Jarque-Bera (JB):         12270303.307\n",
      "Skew:                           5.628   Prob(JB):                         0.00\n",
      "Kurtosis:                      97.220   Cond. No.                         1.00\n",
      "==============================================================================\n",
      "\n",
      "Notes:\n",
      "[1] Standard Errors assume that the covariance matrix of the errors is correctly specified.\n"
     ]
    }
   ],
   "source": [
    "baseline = ols(formula='tip_amount ~ 1', data=X_train).fit()\n",
    "print(baseline.summary())"
   ]
  },
  {
   "cell_type": "code",
   "execution_count": 89,
   "id": "9a748eca",
   "metadata": {},
   "outputs": [
    {
     "name": "stdout",
     "output_type": "stream",
     "text": [
      "Train RMSE: 2.13771366468409\n",
      "Test RMSE: 2.077868499005316\n"
     ]
    }
   ],
   "source": [
    "base_train_pred = baseline.predict(X_train)\n",
    "base_test_pred = baseline.predict(X_test)\n",
    "train_rmse = mean_squared_error(y_train, base_train_pred, squared=False)\n",
    "test_rmse = mean_squared_error(y_test, base_test_pred, squared=False)\n",
    "\n",
    "print(\"Train RMSE:\", train_rmse)\n",
    "print(\"Test RMSE:\", test_rmse)"
   ]
  },
  {
   "cell_type": "markdown",
   "id": "fe3e97b9",
   "metadata": {},
   "source": [
    "# Model Fit"
   ]
  },
  {
   "cell_type": "code",
   "execution_count": 90,
   "id": "9bf1f00c",
   "metadata": {},
   "outputs": [
    {
     "name": "stdout",
     "output_type": "stream",
     "text": [
      "                            OLS Regression Results                            \n",
      "==============================================================================\n",
      "Dep. Variable:             tip_amount   R-squared:                       0.376\n",
      "Model:                            OLS   Adj. R-squared:                  0.376\n",
      "Method:                 Least Squares   F-statistic:                     6572.\n",
      "Date:                Fri, 04 Feb 2022   Prob (F-statistic):               0.00\n",
      "Time:                        21:59:13   Log-Likelihood:                -63540.\n",
      "No. Observations:               32706   AIC:                         1.271e+05\n",
      "Df Residuals:                   32702   BIC:                         1.271e+05\n",
      "Df Model:                           3                                         \n",
      "Covariance Type:            nonrobust                                         \n",
      "===================================================================================\n",
      "                      coef    std err          t      P>|t|      [0.025      0.975]\n",
      "-----------------------------------------------------------------------------------\n",
      "Intercept           2.5708      0.015    166.192      0.000       2.541       2.601\n",
      "passenger_count     0.0413      0.009      4.735      0.000       0.024       0.058\n",
      "fare_amount         1.3198      0.011    116.502      0.000       1.298       1.342\n",
      "tolls_amount       -0.0168      0.011     -1.483      0.138      -0.039       0.005\n",
      "==============================================================================\n",
      "Omnibus:                    33877.001   Durbin-Watson:                   1.999\n",
      "Prob(Omnibus):                  0.000   Jarque-Bera (JB):         43522108.548\n",
      "Skew:                           4.148   Prob(JB):                         0.00\n",
      "Kurtosis:                     181.517   Cond. No.                         3.59\n",
      "==============================================================================\n",
      "\n",
      "Notes:\n",
      "[1] Standard Errors assume that the covariance matrix of the errors is correctly specified.\n"
     ]
    }
   ],
   "source": [
    "full_model = ols(formula='tip_amount ~ passenger_count + fare_amount + tolls_amount', data=X_train).fit()\n",
    "print(full_model.summary())"
   ]
  },
  {
   "cell_type": "markdown",
   "id": "8f32797d",
   "metadata": {},
   "source": [
    "# Predict and Evaluate"
   ]
  },
  {
   "cell_type": "code",
   "execution_count": 91,
   "id": "ac85bc5a",
   "metadata": {},
   "outputs": [
    {
     "name": "stdout",
     "output_type": "stream",
     "text": [
      "Full model\n",
      "Train RMSE: 1.6884827570573022\n",
      "Test RMSE: 1.686076526189573\n",
      "Train R2 0.3761298693506637\n",
      "Test R2 0.3415245999665153\n"
     ]
    }
   ],
   "source": [
    "full_train_pred = full_model.predict(X_train)\n",
    "full_test_pred = full_model.predict(X_test)\n",
    "train_rmse = mean_squared_error(y_train, full_train_pred, squared=False)\n",
    "test_rmse = mean_squared_error(y_test, full_test_pred, squared=False)\n",
    "train_r2 = r2_score(y_train, full_train_pred)\n",
    "test_r2 = r2_score(y_test, full_test_pred)\n",
    "\n",
    "print(\"Full model\")\n",
    "print(\"Train RMSE:\", train_rmse)\n",
    "print(\"Test RMSE:\", test_rmse)\n",
    "print(\"Train R2\", train_r2)\n",
    "print(\"Test R2\", test_r2)"
   ]
  },
  {
   "cell_type": "markdown",
   "id": "5110b487",
   "metadata": {},
   "source": [
    "# Feature Creation"
   ]
  },
  {
   "cell_type": "code",
   "execution_count": 62,
   "id": "6baf8374",
   "metadata": {},
   "outputs": [],
   "source": [
    "# extract day and time, the calculate the duration of the trip\n",
    "data['tpep_pickup_datetime'] = pd.to_datetime(data['tpep_pickup_datetime'])\n",
    "data['tpep_dropoff_datetime'] = pd.to_datetime(data['tpep_dropoff_datetime'])\n",
    "data['date'] = data['tpep_pickup_datetime'].dt.normalize()\n",
    "data['time'] = data['tpep_pickup_datetime'].dt.hour\n",
    "data['weekday'] = data['date'].dt.day_name()\n",
    "data['duration'] = data['tpep_dropoff_datetime'] - data['tpep_pickup_datetime']\n",
    "data['duration'] = data['duration'] / np.timedelta64(1, 'm')"
   ]
  },
  {
   "cell_type": "code",
   "execution_count": 63,
   "id": "80b69860",
   "metadata": {},
   "outputs": [],
   "source": [
    "# identifying holidays\n",
    "cal = calander()\n",
    "holidays = cal.holidays(start='2018-01-01', end='2018-12-31')\n",
    "data['holiday'] = data['date'].isin(holidays)\n",
    "data['week'] = data['date'].dt.dayofweek\n",
    "data.loc[data['week'] >= 5, 'day_type'] = \"weekend\"\n",
    "data.loc[data['week'] < 5, 'day_type'] = \"workday\"\n",
    "data.loc[data['holiday'] == True, 'day_type'] = \"holiday\"\n",
    "data = data.drop(['holiday', 'week'], axis=1)"
   ]
  },
  {
   "cell_type": "markdown",
   "id": "dda14e6c",
   "metadata": {},
   "source": [
    "# Transormation of Target Variable"
   ]
  },
  {
   "cell_type": "code",
   "execution_count": 64,
   "id": "4b0ecb3b",
   "metadata": {},
   "outputs": [],
   "source": [
    "data['tip_percent'] = (data.tip_amount / data.total_amount) * 100"
   ]
  },
  {
   "cell_type": "code",
   "execution_count": 65,
   "id": "8bbd189a",
   "metadata": {},
   "outputs": [],
   "source": [
    "# classify a trip's time slot\n",
    "\n",
    "def time_slots(x):\n",
    "    if x in range(6,12):\n",
    "        return 'Morning'\n",
    "    elif x in range(12,17):\n",
    "        return 'Afternoon'\n",
    "    elif x in range(17,22):\n",
    "        return 'Evening'\n",
    "    else:\n",
    "        return 'Late Night'\n",
    "\n",
    "data['time_desc'] = data['time'].apply(time_slots)"
   ]
  },
  {
   "cell_type": "code",
   "execution_count": 66,
   "id": "4743b0e7",
   "metadata": {},
   "outputs": [],
   "source": [
    "# drop features that we are not interested in\n",
    "data = data.drop(['tpep_pickup_datetime', 'tpep_dropoff_datetime', 'store_and_fwd_flag', 'extra', 'mta_tax', 'improvement_surcharge'], axis=1)"
   ]
  },
  {
   "cell_type": "code",
   "execution_count": 67,
   "id": "3d3ed4cf",
   "metadata": {},
   "outputs": [
    {
     "data": {
      "text/html": [
       "<div>\n",
       "<style scoped>\n",
       "    .dataframe tbody tr th:only-of-type {\n",
       "        vertical-align: middle;\n",
       "    }\n",
       "\n",
       "    .dataframe tbody tr th {\n",
       "        vertical-align: top;\n",
       "    }\n",
       "\n",
       "    .dataframe thead th {\n",
       "        text-align: right;\n",
       "    }\n",
       "</style>\n",
       "<table border=\"1\" class=\"dataframe\">\n",
       "  <thead>\n",
       "    <tr style=\"text-align: right;\">\n",
       "      <th></th>\n",
       "      <th>passenger_count</th>\n",
       "      <th>trip_distance</th>\n",
       "      <th>fare_amount</th>\n",
       "      <th>tip_amount</th>\n",
       "      <th>tolls_amount</th>\n",
       "      <th>total_amount</th>\n",
       "      <th>duration</th>\n",
       "      <th>tip_percent</th>\n",
       "    </tr>\n",
       "  </thead>\n",
       "  <tbody>\n",
       "    <tr>\n",
       "      <th>count</th>\n",
       "      <td>1.271413e+06</td>\n",
       "      <td>1.369765e+06</td>\n",
       "      <td>1.369765e+06</td>\n",
       "      <td>1.369765e+06</td>\n",
       "      <td>1.369765e+06</td>\n",
       "      <td>1.369765e+06</td>\n",
       "      <td>1.369765e+06</td>\n",
       "      <td>1.369314e+06</td>\n",
       "    </tr>\n",
       "    <tr>\n",
       "      <th>mean</th>\n",
       "      <td>1.411508e+00</td>\n",
       "      <td>4.631982e+00</td>\n",
       "      <td>1.209662e+01</td>\n",
       "      <td>1.918099e+00</td>\n",
       "      <td>2.477432e-01</td>\n",
       "      <td>1.747439e+01</td>\n",
       "      <td>1.391168e+01</td>\n",
       "      <td>inf</td>\n",
       "    </tr>\n",
       "    <tr>\n",
       "      <th>std</th>\n",
       "      <td>1.059833e+00</td>\n",
       "      <td>3.939042e+02</td>\n",
       "      <td>1.291338e+01</td>\n",
       "      <td>2.597153e+00</td>\n",
       "      <td>1.672755e+00</td>\n",
       "      <td>1.469343e+01</td>\n",
       "      <td>1.312008e+02</td>\n",
       "      <td>NaN</td>\n",
       "    </tr>\n",
       "    <tr>\n",
       "      <th>min</th>\n",
       "      <td>0.000000e+00</td>\n",
       "      <td>0.000000e+00</td>\n",
       "      <td>-4.900000e+02</td>\n",
       "      <td>-1.000000e+02</td>\n",
       "      <td>-3.112000e+01</td>\n",
       "      <td>-4.928000e+02</td>\n",
       "      <td>-1.350846e+05</td>\n",
       "      <td>-6.600660e+01</td>\n",
       "    </tr>\n",
       "    <tr>\n",
       "      <th>25%</th>\n",
       "      <td>1.000000e+00</td>\n",
       "      <td>1.000000e+00</td>\n",
       "      <td>6.000000e+00</td>\n",
       "      <td>0.000000e+00</td>\n",
       "      <td>0.000000e+00</td>\n",
       "      <td>1.080000e+01</td>\n",
       "      <td>5.566667e+00</td>\n",
       "      <td>0.000000e+00</td>\n",
       "    </tr>\n",
       "    <tr>\n",
       "      <th>50%</th>\n",
       "      <td>1.000000e+00</td>\n",
       "      <td>1.700000e+00</td>\n",
       "      <td>8.500000e+00</td>\n",
       "      <td>1.860000e+00</td>\n",
       "      <td>0.000000e+00</td>\n",
       "      <td>1.380000e+01</td>\n",
       "      <td>9.066667e+00</td>\n",
       "      <td>1.383300e+01</td>\n",
       "    </tr>\n",
       "    <tr>\n",
       "      <th>75%</th>\n",
       "      <td>1.000000e+00</td>\n",
       "      <td>3.020000e+00</td>\n",
       "      <td>1.350000e+01</td>\n",
       "      <td>2.750000e+00</td>\n",
       "      <td>0.000000e+00</td>\n",
       "      <td>1.912000e+01</td>\n",
       "      <td>1.461667e+01</td>\n",
       "      <td>1.666667e+01</td>\n",
       "    </tr>\n",
       "    <tr>\n",
       "      <th>max</th>\n",
       "      <td>8.000000e+00</td>\n",
       "      <td>2.631633e+05</td>\n",
       "      <td>6.960500e+03</td>\n",
       "      <td>1.140440e+03</td>\n",
       "      <td>8.117500e+02</td>\n",
       "      <td>7.661280e+03</td>\n",
       "      <td>2.881770e+04</td>\n",
       "      <td>inf</td>\n",
       "    </tr>\n",
       "  </tbody>\n",
       "</table>\n",
       "</div>"
      ],
      "text/plain": [
       "       passenger_count  trip_distance   fare_amount    tip_amount  \\\n",
       "count     1.271413e+06   1.369765e+06  1.369765e+06  1.369765e+06   \n",
       "mean      1.411508e+00   4.631982e+00  1.209662e+01  1.918099e+00   \n",
       "std       1.059833e+00   3.939042e+02  1.291338e+01  2.597153e+00   \n",
       "min       0.000000e+00   0.000000e+00 -4.900000e+02 -1.000000e+02   \n",
       "25%       1.000000e+00   1.000000e+00  6.000000e+00  0.000000e+00   \n",
       "50%       1.000000e+00   1.700000e+00  8.500000e+00  1.860000e+00   \n",
       "75%       1.000000e+00   3.020000e+00  1.350000e+01  2.750000e+00   \n",
       "max       8.000000e+00   2.631633e+05  6.960500e+03  1.140440e+03   \n",
       "\n",
       "       tolls_amount  total_amount      duration   tip_percent  \n",
       "count  1.369765e+06  1.369765e+06  1.369765e+06  1.369314e+06  \n",
       "mean   2.477432e-01  1.747439e+01  1.391168e+01           inf  \n",
       "std    1.672755e+00  1.469343e+01  1.312008e+02           NaN  \n",
       "min   -3.112000e+01 -4.928000e+02 -1.350846e+05 -6.600660e+01  \n",
       "25%    0.000000e+00  1.080000e+01  5.566667e+00  0.000000e+00  \n",
       "50%    0.000000e+00  1.380000e+01  9.066667e+00  1.383300e+01  \n",
       "75%    0.000000e+00  1.912000e+01  1.461667e+01  1.666667e+01  \n",
       "max    8.117500e+02  7.661280e+03  2.881770e+04           inf  "
      ]
     },
     "execution_count": 67,
     "metadata": {},
     "output_type": "execute_result"
    }
   ],
   "source": [
    "# descriptive statistics for continuous attributes\n",
    "data[['passenger_count', 'trip_distance', 'fare_amount', 'tip_amount', 'tolls_amount', 'total_amount', 'duration', 'tip_percent']].describe()"
   ]
  },
  {
   "cell_type": "code",
   "execution_count": 68,
   "id": "d77a8f2d",
   "metadata": {},
   "outputs": [
    {
     "data": {
      "text/plain": [
       "<AxesSubplot:xlabel='trip_distance', ylabel='Density'>"
      ]
     },
     "execution_count": 68,
     "metadata": {},
     "output_type": "execute_result"
    },
    {
     "data": {
      "image/png": "[encoded data removed]",
      "text/plain": [
       "<Figure size 432x288 with 1 Axes>"
      ]
     },
     "metadata": {
      "needs_background": "light"
     },
     "output_type": "display_data"
    }
   ],
   "source": [
    "sns.distplot(data[(data['trip_distance'] > 0) & (data['trip_distance'] <= 50)]['trip_distance'])"
   ]
  },
  {
   "cell_type": "code",
   "execution_count": 69,
   "id": "908267e7",
   "metadata": {},
   "outputs": [
    {
     "data": {
      "text/plain": [
       "<AxesSubplot:xlabel='duration', ylabel='Density'>"
      ]
     },
     "execution_count": 69,
     "metadata": {},
     "output_type": "execute_result"
    },
    {
     "data": {
      "image/png": "[encoded data removed]",
      "text/plain": [
       "<Figure size 432x288 with 1 Axes>"
      ]
     },
     "metadata": {
      "needs_background": "light"
     },
     "output_type": "display_data"
    }
   ],
   "source": [
    "sns.distplot(data[(data['duration'] > 0) & (data['duration'] < 120)]['duration'])"
   ]
  },
  {
   "cell_type": "code",
   "execution_count": 70,
   "id": "e3b5178d",
   "metadata": {},
   "outputs": [
    {
     "data": {
      "text/plain": [
       "<AxesSubplot:xlabel='fare_amount', ylabel='Density'>"
      ]
     },
     "execution_count": 70,
     "metadata": {},
     "output_type": "execute_result"
    },
    {
     "data": {
      "image/png": "[encoded data removed]",
      "text/plain": [
       "<Figure size 432x288 with 1 Axes>"
      ]
     },
     "metadata": {
      "needs_background": "light"
     },
     "output_type": "display_data"
    }
   ],
   "source": [
    "sns.distplot(data[(data['fare_amount'] >= 2.5)&(data['fare_amount'] <= 150)]['fare_amount'])"
   ]
  },
  {
   "cell_type": "code",
   "execution_count": 71,
   "id": "a2ae8c15",
   "metadata": {},
   "outputs": [
    {
     "data": {
      "text/plain": [
       "<AxesSubplot:xlabel='tip_amount', ylabel='Density'>"
      ]
     },
     "execution_count": 71,
     "metadata": {},
     "output_type": "execute_result"
    },
    {
     "data": {
      "image/png": "[encoded data removed]",
      "text/plain": [
       "<Figure size 432x288 with 1 Axes>"
      ]
     },
     "metadata": {
      "needs_background": "light"
     },
     "output_type": "display_data"
    }
   ],
   "source": [
    "sns.distplot(data.tip_amount)"
   ]
  },
  {
   "cell_type": "code",
   "execution_count": 72,
   "id": "939d85a4",
   "metadata": {},
   "outputs": [],
   "source": [
    "# remove invalid data\n",
    "# passenger == 0\n",
    "data = data[(data['passenger_count'] > 0) & (data['passenger_count'] < 7)]\n",
    "\n",
    "# trip_distance <= 0\n",
    "data = data[(data['trip_distance'] > 0) & (data['trip_distance'] <= 100)]\n",
    "\n",
    "# exclude duration longer than 180 mins\n",
    "data = data[(data['duration'] > 0) & (data['duration'] <= 180)]\n",
    "\n",
    "# payment method other than cash and credit card\n",
    "data = data[(data['payment_type'] != 3) & (data['payment_type'] != 4) & (data['payment_type'] != 5) & (data['payment_type'] != 6)]\n",
    "\n",
    "# exclude instances with fare amount less than 2.5\n",
    "data = data[(data['fare_amount'] >= 2.5) & (data['fare_amount'] <= 250)]\n",
    "\n",
    "# remove trips with tip precentage over 50%\n",
    "data = data[(data['tip_percent'] >= 0) & (data['tip_percent'] <= 50)]\n",
    "\n",
    "# PU and DO location id not within NYC taxi zone\n",
    "data = data[(data['PULocationID'] >= 1) & (data['PULocationID'] <= 263) & (data['DOLocationID'] >= 1) & (data['DOLocationID'] <= 263)]"
   ]
  },
  {
   "cell_type": "code",
   "execution_count": 73,
   "id": "96b4c6c8",
   "metadata": {},
   "outputs": [],
   "source": [
    "# convert passenger amount into three level\n",
    "def passenger_convert(row):\n",
    "    if (row >= 1) & (row <= 2):\n",
    "        val = \"small\"\n",
    "    elif (row > 2) & (row < 5):\n",
    "        val = \"medium\"\n",
    "    else:\n",
    "        val = \"high\"\n",
    "    return val\n",
    "\n",
    "data['passenger_count'] = data['passenger_count'].apply(passenger_convert)"
   ]
  },
  {
   "cell_type": "code",
   "execution_count": 74,
   "id": "36278c24",
   "metadata": {},
   "outputs": [
    {
     "data": {
      "text/plain": [
       "small     1082980\n",
       "medium      58677\n",
       "high        55244\n",
       "Name: passenger_count, dtype: int64"
      ]
     },
     "execution_count": 74,
     "metadata": {},
     "output_type": "execute_result"
    }
   ],
   "source": [
    "data['passenger_count'].value_counts()"
   ]
  },
  {
   "cell_type": "markdown",
   "id": "a4d0c68b",
   "metadata": {},
   "source": [
    "# Passengers Tipping Behavior"
   ]
  },
  {
   "cell_type": "code",
   "execution_count": 76,
   "id": "3d7b0842",
   "metadata": {},
   "outputs": [],
   "source": [
    "# filter payment type cash, since tips are not recorded in cash payment\n",
    "tip = data[data['payment_type'] != 2]"
   ]
  },
  {
   "cell_type": "code",
   "execution_count": null,
   "id": "cb15310b",
   "metadata": {},
   "outputs": [],
   "source": [
    "cats = [ 'Monday', 'Tuesday', 'Wednesday', 'Thursday', 'Friday', 'Saturday', 'Sunday']\n",
    "#winter_pu_count = pd.crosstab(yellow_winter['weekday'], yellow_winter['time'])\n",
    "#winter_pu_count = winter_pu_count.reindex(cats, axis=0)\n",
    "\n",
    "#summer_pu_count = pd.crosstab(yellow_summer['weekday'], yellow_summer['time'])\n",
    "#summer_pu_count = summer_pu_count.reindex(cats, axis=0)"
   ]
  },
  {
   "cell_type": "markdown",
   "id": "93effbb0",
   "metadata": {},
   "source": [
    "# Computing the tipping percentage in each hour through the week"
   ]
  },
  {
   "cell_type": "code",
   "execution_count": 78,
   "id": "bf0f25b1",
   "metadata": {},
   "outputs": [
    {
     "data": {
      "image/png": "[encoded data removed]",
      "text/plain": [
       "<Figure size 936x252 with 2 Axes>"
      ]
     },
     "metadata": {
      "needs_background": "light"
     },
     "output_type": "display_data"
    }
   ],
   "source": [
    "tip_percent = tip.groupby(['weekday', 'time'], as_index=False)['tip_percent'].mean()\n",
    "tip_percent.weekday = pd.Categorical(tip_percent.weekday, categories=cats)\n",
    "tip_percent = tip_percent.sort_values(['weekday', 'time']).reset_index(drop=True)\n",
    "tip_percent_heatmap = pd.pivot_table(tip_percent, values='tip_percent', index='weekday', columns='time')\n",
    "\n",
    "fig, ax = plt.subplots(figsize=(13, 3.5))\n",
    "sns.heatmap(tip_percent_heatmap, cbar_kws={'label': 'Tip Percentage'}, ax=ax, cmap='coolwarm')\n",
    "ax.set_ylabel('Weekday')\n",
    "ax.set_xlabel('Hour of the day')\n",
    "ax.set_title('Tipping Percent Throughout Different Times of the Week')\n",
    "plt.show()"
   ]
  },
  {
   "cell_type": "code",
   "execution_count": null,
   "id": "b7dba2b5",
   "metadata": {},
   "outputs": [],
   "source": [
    "##PART 2"
   ]
  },
  {
   "cell_type": "code",
   "execution_count": 2,
   "id": "95ee5d0f",
   "metadata": {},
   "outputs": [],
   "source": [
    "import pandas as pd\n",
    "from sklearn.ensemble import RandomForestClassifier\n",
    "from sklearn.metrics import accuracy_score,f1_score\n",
    "from pandas.api.types import is_string_dtype,is_numeric_dtype\n",
    "import seaborn as sns\n",
    "import matplotlib.pyplot as plt\n",
    "from sklearn.model_selection import train_test_split\n",
    "\n",
    "%matplotlib inline"
   ]
  },
  {
   "cell_type": "code",
   "execution_count": 3,
   "id": "40dce69b",
   "metadata": {},
   "outputs": [
    {
     "name": "stderr",
     "output_type": "stream",
     "text": [
      "C:\\Users\\Ash\\anaconda3\\lib\\site-packages\\IPython\\core\\interactiveshell.py:3165: DtypeWarning: Columns (6) have mixed types.Specify dtype option on import or set low_memory=False.\n",
      "  has_raised = await self.run_ast_nodes(code_ast.body, cell_name,\n"
     ]
    }
   ],
   "source": [
    "df = pd.read_csv(r'C:\\Users\\Ash\\Desktop\\Sample\\yellow_tripdata_2021-01.csv')"
   ]
  },
  {
   "cell_type": "code",
   "execution_count": null,
   "id": "276dff39",
   "metadata": {},
   "outputs": [],
   "source": [
    "'''Keep aside test data first'''\n",
    "\n",
    "def mydf_splitter(my_df,num_rows):\n",
    "    return my_df[:num_rows].copy(),my_df[num_rows:]\n",
    "\n",
    "\n",
    "df_trn_val,df_tst = mydf_splitter(df,1150)\n",
    "\n",
    "print(df_trn_val.shape,df_tst.shape)"
   ]
  },
  {
   "cell_type": "code",
   "execution_count": null,
   "id": "738ac775",
   "metadata": {},
   "outputs": [],
   "source": [
    " #Dropping the columns\n",
    "df_trn_val1 = df_trn_val.drop([\"congestion_surcharge\",\"store_and_fwd_flag\"],axis = 1)\n",
    "print(df_trn_val1.shape)\n",
    "df_trn_val1.head(3)"
   ]
  },
  {
   "cell_type": "code",
   "execution_count": null,
   "id": "29b28e4a",
   "metadata": {},
   "outputs": [],
   "source": [
    "#Define a function to convert object types and string types to category type\n",
    "\n",
    "def str_to_cat(my_df):\n",
    "    for p,q in my_df.items(): #my_df.items() is a generator in Python\n",
    "        if is_string_dtype(q): \n",
    "            my_df[p] = q.astype('category').cat.as_ordered()\n",
    "    return my_df"
   ]
  },
  {
   "cell_type": "code",
   "execution_count": 4,
   "id": "dec656dd",
   "metadata": {},
   "outputs": [],
   "source": [
    "'''Define impute functions. Impute categorical NaNs with -1, \n",
    "where we add 1 to make it 0. For each \n",
    "continuous variables, we impute missing values with median values of that\n",
    "column, and for every variable\n",
    "where any rows were imputed, add a separate 'imputed or not' column'''\n",
    "\n",
    "def mydf_to_nums(my_df, feature, null_status):\n",
    "    if not is_numeric_dtype(feature):\n",
    "        my_df[null_status] = feature.cat.codes + 1\n",
    "        \n",
    "def mydf_imputer(my_df, feature, null_status, null_table):\n",
    "    if is_numeric_dtype(feature):\n",
    "        if pd.isnull(feature).sum() or (null_status in null_table):\n",
    "            my_df[null_status+'_na'] = pd.isnull(feature)\n",
    "            filler = null_table[null_status] if null_status in null_table else feature.median()\n",
    "            my_df[null_status] = feature.fillna(filler)\n",
    "            null_table[null_status] = filler\n",
    "    return null_table   \n",
    "\n",
    "def mydf_preprocessor(my_df, null_table):\n",
    "    '''null_table  = your table or None'''\n",
    "    \n",
    "    if null_table is None: \n",
    "        null_table = dict()\n",
    "    for p,q in my_df.items(): \n",
    "        null_table = mydf_imputer(my_df, q, p, null_table)\n",
    "    for p,q in my_df.items(): \n",
    "        mydf_to_nums(my_df, q, p)\n",
    "    my_df = pd.get_dummies(my_df, dummy_na = True)\n",
    "    res = [my_df, null_table]\n",
    "    return res"
   ]
  },
  {
   "cell_type": "code",
   "execution_count": 5,
   "id": "e694b8b1",
   "metadata": {},
   "outputs": [
    {
     "ename": "NameError",
     "evalue": "name 'str_to_cat' is not defined",
     "output_type": "error",
     "traceback": [
      "\u001b[1;31m---------------------------------------------------------------------------\u001b[0m",
      "\u001b[1;31mNameError\u001b[0m                                 Traceback (most recent call last)",
      "\u001b[1;32m<ipython-input-5-739394425006>\u001b[0m in \u001b[0;36m<module>\u001b[1;34m\u001b[0m\n\u001b[1;32m----> 1\u001b[1;33m \u001b[0mdf_trn_val2\u001b[0m \u001b[1;33m=\u001b[0m \u001b[0mstr_to_cat\u001b[0m\u001b[1;33m(\u001b[0m\u001b[0mdf_trn_val1\u001b[0m\u001b[1;33m)\u001b[0m\u001b[1;33m\u001b[0m\u001b[1;33m\u001b[0m\u001b[0m\n\u001b[0m\u001b[0;32m      2\u001b[0m \u001b[0mprint\u001b[0m\u001b[1;33m(\u001b[0m\u001b[0mdf_trn_val2\u001b[0m\u001b[1;33m.\u001b[0m\u001b[0mshape\u001b[0m\u001b[1;33m)\u001b[0m\u001b[1;33m\u001b[0m\u001b[1;33m\u001b[0m\u001b[0m\n\u001b[0;32m      3\u001b[0m \u001b[0mdf_trn_val2\u001b[0m\u001b[1;33m.\u001b[0m\u001b[0mhead\u001b[0m\u001b[1;33m(\u001b[0m\u001b[1;36m3\u001b[0m\u001b[1;33m)\u001b[0m\u001b[1;33m\u001b[0m\u001b[1;33m\u001b[0m\u001b[0m\n",
      "\u001b[1;31mNameError\u001b[0m: name 'str_to_cat' is not defined"
     ]
    }
   ],
   "source": [
    "df_trn_val2 = str_to_cat(df_trn_val1)\n",
    "print(df_trn_val2.shape)\n",
    "df_trn_val2.head(3)"
   ]
  },
  {
   "cell_type": "code",
   "execution_count": null,
   "id": "2182fe45",
   "metadata": {},
   "outputs": [],
   "source": [
    "df_trn_val3,my_table = mydf_preprocessor(df_trn_val2,null_table = None)\n",
    "print(df_trn_val3.shape)\n",
    "df_trn_val3.head(3)"
   ]
  },
  {
   "cell_type": "code",
   "execution_count": null,
   "id": "3d45e9f1",
   "metadata": {},
   "outputs": [],
   "source": [
    "x = df_trn_val3.drop('improvement_surcharge', axis=1)\n",
    "y = df_trn_val3['improvement_surcharge']"
   ]
  },
  {
   "cell_type": "code",
   "execution_count": null,
   "id": "b4ea3711",
   "metadata": {},
   "outputs": [],
   "source": [
    "x_trn, x_val, y_trn, y_val = train_test_split(x, y, random_state=1)\n",
    "print(x_trn.shape,x_val.shape,y_trn.shape,y_val.shape)"
   ]
  },
  {
   "cell_type": "code",
   "execution_count": null,
   "id": "43ec7939",
   "metadata": {},
   "outputs": [],
   "source": [
    "from sklearn import preprocessing\n",
    "from sklearn.ensemble import RandomForestRegressor"
   ]
  },
  {
   "cell_type": "markdown",
   "id": "09cff37c",
   "metadata": {},
   "source": [
    "# RandomforestRegressor"
   ]
  },
  {
   "cell_type": "code",
   "execution_count": null,
   "id": "16472468",
   "metadata": {},
   "outputs": [],
   "source": [
    "#(n_estimators = 10)\n",
    "\n",
    "mod_1 = RandomForestRegressor(n_jobs = -1, n_estimators = 10,\n",
    "                                 bootstrap = True)\n",
    "mod_1.fit(x_trn,y_trn)"
   ]
  },
  {
   "cell_type": "code",
   "execution_count": null,
   "id": "82a4f9ec",
   "metadata": {},
   "outputs": [],
   "source": [
    "y_pred = mod_1.predict(x_val)\n",
    "y_pred.shape"
   ]
  },
  {
   "cell_type": "code",
   "execution_count": null,
   "id": "5e900183",
   "metadata": {},
   "outputs": [],
   "source": [
    "from sklearn import metrics\n",
    "import numpy as np\n",
    "print (f'Mean Absolute Error (MAE): {metrics.mean_absolute_error(y_val,y_prd)}')\n",
    "print(f'Mean Squared Error (MSE) : {metrics.mean_squared_error(y_val,y_prd)}')\n",
    "print(f'Root Mean Squared Error (RMSE) : {np.sqrt(metrics.mean_squared_error(y_val,y_prd))}')"
   ]
  },
  {
   "cell_type": "code",
   "execution_count": null,
   "id": "25236160",
   "metadata": {},
   "outputs": [],
   "source": [
    "random_grid = {'bootstrap': [True, False],\n",
    "               'max_depth': [10, 20, 30, 40, 50, 60, 70, 80, 90, 100, 110, None],\n",
    "               'max_features': ['auto', 'sqrt'],\n",
    "               'min_samples_leaf': [1, 2, 4],\n",
    "               'min_samples_split': [2, 5, 10],\n",
    "               'n_estimators': [130, 180, 230]}"
   ]
  },
  {
   "cell_type": "code",
   "execution_count": null,
   "id": "6faee5a1",
   "metadata": {},
   "outputs": [],
   "source": [
    "#from sklearn.ensemble import RandomForestRegressor\n",
    "from sklearn.model_selection import RandomizedSearchCV\n",
    "rf = RandomForestRegressor()\n",
    "# Random search of parameters, using 3 fold cross validation, \n",
    "# search across 100 different combinations, and use all available cores\n",
    "rf_random = RandomizedSearchCV(estimator = rf, param_distributions = random_grid, n_iter = 1, cv = 2, verbose=2, random_state=0,n_jobs = -1)\n",
    "# Fit the random search model\n",
    "rf_random.fit(x_trn,y_trn)"
   ]
  },
  {
   "cell_type": "code",
   "execution_count": null,
   "id": "7057a755",
   "metadata": {},
   "outputs": [],
   "source": [
    "y_pred_2 = rf_random.predict(x_val)\n",
    "y_pred_2.shape"
   ]
  },
  {
   "cell_type": "markdown",
   "id": "ea853fc1",
   "metadata": {},
   "source": [
    "# Randomized Grid CV"
   ]
  },
  {
   "cell_type": "code",
   "execution_count": null,
   "id": "54ca1ab9",
   "metadata": {},
   "outputs": [],
   "source": [
    "#Getting the results in Dataframe\n",
    "random_sear_pd=pd.DataFrame(rf_random.cv_results_)\n",
    "random_sear_pd"
   ]
  },
  {
   "cell_type": "code",
   "execution_count": null,
   "id": "686b77e4",
   "metadata": {},
   "outputs": [],
   "source": [
    "rf_random.best_params_\n",
    "rf_random.best_score_\n",
    "rf_random.best_estimator_"
   ]
  },
  {
   "cell_type": "code",
   "execution_count": null,
   "id": "d3540f55",
   "metadata": {},
   "outputs": [],
   "source": [
    "print (f'Mean Absolute Error (MAE): {metrics.mean_absolute_error(y_val,y_pred_2)}')\n",
    "print(f'Mean Squared Error (MSE) : {metrics.mean_squared_error(y_val,y_pred_2)}')\n",
    "print(f'Root Mean Squared Error (RMSE) : {np.sqrt(metrics.mean_squared_error(y_val,y_pred_2))}')"
   ]
  },
  {
   "cell_type": "markdown",
   "id": "082be404",
   "metadata": {},
   "source": [
    "# PART 1\n",
    "i)Conducted exploratory analysis of the data\n",
    "ii)Important features for prediction are trip_distance,fare_amount,tip_amount,total_amount and tolls_amount\n",
    "iii)Features represented are transformed a) day_type as holiday and weekday\n",
    "                                         b)day_time as morning evening, night\n",
    "iv)Yes, it is useful to transform the output variable. \n",
    "Formula : data['tip_percent'] = (data.tip_amount / data.total_amount) *100 for calculation. \n",
    "It makes more sense to predict the tip percentage for easier representation"
   ]
  },
  {
   "cell_type": "markdown",
   "id": "ecba08f6",
   "metadata": {},
   "source": [
    "# PART2\n",
    "i) Data is split into train and test portions.Pipeline is builtso that all models are trained on the training set and comparisons among models are performed\n",
    "on the validation set.\n",
    "ii) Since the model involves continous variables, randomforest classifier cannot be implemeted and hence deployed randomforest regressor.\n",
    "iii) Implemeted feature engineering to get insight for important features at different level of granulity"
   ]
  },
  {
   "cell_type": "markdown",
   "id": "8f3e86e4",
   "metadata": {},
   "source": [
    "# CONCLUSION\n",
    "Thus all the requirements for the assignment are fulfilled.\n",
    "a)EDA is performed\n",
    "b)Baseline model is implemented using OLS\n",
    "c)Feature tranformation is deployed.\n",
    "d)Taxi Tip as target variable is calculated using formula as mentioned above\n",
    "e)Passengers Tipping Behavior is calculated\n",
    "f)Pipeline model is implemented."
   ]
  }
 ],
 "metadata": {
  "kernelspec": {
   "display_name": "Python 3",
   "language": "python",
   "name": "python3"
  },
  "language_info": {
   "codemirror_mode": {
    "name": "ipython",
    "version": 3
   },
   "file_extension": ".py",
   "mimetype": "text/x-python",
   "name": "python",
   "nbconvert_exporter": "python",
   "pygments_lexer": "ipython3",
   "version": "3.8.8"
  }
 },
 "nbformat": 4,
 "nbformat_minor": 5
}
